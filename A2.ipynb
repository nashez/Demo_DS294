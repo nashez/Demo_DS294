{
 "cells": [
  {
   "cell_type": "markdown",
   "metadata": {},
   "source": [
    "This notebook has the code to implement the feature sign search algorithm. The reference paper used :  "
   ]
  },
  {
   "cell_type": "markdown",
   "metadata": {},
   "source": [
    "H. Lee, A. Battle, R. Raina, and A. Y. Ng. \"Efficient sparse coding algorithms\". Advances in Neural Information Processing Systems 19, 2007."
   ]
  },
  {
   "cell_type": "markdown",
   "metadata": {},
   "source": [
    "This is the function for the algorithm in the paper"
   ]
  },
  {
   "cell_type": "code",
   "execution_count": 82,
   "metadata": {
    "collapsed": true
   },
   "outputs": [],
   "source": [
    "def FeatureSignSearch(A, y, gamma):\n",
    "    ATA = n.dot(A.T, A)\n",
    "    ATY = n.dot(A.T, y)\n",
    "    YTY = n.dot(y.T, y)\n",
    "    derivative = -2 * ATY\n",
    "    threshold = 1e-15\n",
    "    x= n.zeros(ATA.shape[0])\n",
    "    #Creating theta vector \n",
    "    theta = n.zeros(ATA.shape[0], dtype = n.int8)\n",
    "    activeSet = set()\n",
    "    #This Line\n",
    "    condition2 = n.inf    \n",
    "    condition1 = 0    \n",
    "    \n",
    "    while condition2 > gamma or not n.allclose(condition1, 0):\n",
    "        #Optimality condition (a) as per the paper satisfied\n",
    "        if n.allclose(condition1, 0):\n",
    "            #Find the max i\n",
    "            i = n.argmax(n.abs(derivative) * (theta == 0))\n",
    "            if derivative[i] > gamma:\n",
    "                theta[i] = -1\n",
    "                x[i] = 0\n",
    "                activeSet.add(i)\n",
    "            elif derivative[i] < -gamma:\n",
    "                theta[i] = 1\n",
    "                x[i] = 0\n",
    "                activeSet.add(i)\n",
    "            #if no modification in my active set and the optimality condition too is satisfied then terminate\n",
    "            if len(activeSet) == 0:\n",
    "                break\n",
    "        \n",
    "        activeSetIndices = n.array(sorted(activeSet))\n",
    "        #\n",
    "        AHTAH = ATA[n.ix_(activeSetIndices, activeSetIndices)]\n",
    "        AHTYH = ATY[activeSetIndices]\n",
    "        thetaH = theta[activeSetIndices]\n",
    "        #safeguard for matrix to go singular (footnote 3) \n",
    "        \n",
    "        temp1 = n.linalg.inv(AHTAH)\n",
    "        temp2 = AHTYH - gamma * thetaH / 2        \n",
    "        xnew = n.dot(temp1, temp2)\n",
    "        thetanew = n.sign(xnew)\n",
    "        xold = x[activeSetIndices]\n",
    "        thetaFlip = n.where(abs(thetanew - thetaH) > 1)[0]\n",
    "        \n",
    "        if len(thetaFlip) > 0:\n",
    "            optCurr = xnew\n",
    "            optObj = (YTY + n.dot(xnew, n.dot(AHTAH, xnew)) - 2*n.dot(xnew, AHTYH) + gamma * abs(xnew).sum())\n",
    "            \n",
    "            for index in thetaFlip:\n",
    "                a = xnew[index]\n",
    "                b = xold[index]\n",
    "                slope = b / (b-a)\n",
    "                current = xold - slope * (xold - xnew)\n",
    "                cost = YTY + (n.dot(current, n.dot(AHTAH, current)) - 2 * n.dot(current, AHTYH) + gamma * abs(current).sum())\n",
    "                if cost < optObj:\n",
    "                    optObj = cost\n",
    "                    optSlope = slope\n",
    "                    optCurr = current\n",
    "        else:\n",
    "            optCurr = xnew\n",
    "        x[activeSetIndices] = optCurr\n",
    "        zeroindices = activeSetIndices[n.abs(x[activeSetIndices]) < threshold]\n",
    "        x[zeroindices] = n.int8(n.sign(x[activeSetIndices]))\n",
    "        activeSet.difference_update(zeroindices)\n",
    "        derivative = -2 * ATY + 2 * n.dot(ATA, x)\n",
    "        z_opt = n.max(abs(derivative[theta==0]))\n",
    "        nz_opt = n.max(abs(derivative[theta!=0] + gamma*theta[theta != 0]))\n",
    "    return x"
   ]
  },
  {
   "cell_type": "markdown",
   "metadata": {},
   "source": [
    "Reading the data from the dataset"
   ]
  },
  {
   "cell_type": "code",
   "execution_count": 83,
   "metadata": {},
   "outputs": [
    {
     "data": {
      "text/plain": [
       "array([ 0.        ,  0.38575269])"
      ]
     },
     "execution_count": 83,
     "metadata": {},
     "output_type": "execute_result"
    }
   ],
   "source": [
    "#Python Imports\n",
    "import numpy as n\n",
    "\n",
    "A = n.array([[1,2],[4,5],[7,8]])\n",
    "y = n.array([1,2,3])\n",
    "gamma = 0.25\n",
    "FeatureSignSearch(A, y, gamma)"
   ]
  }
 ],
 "metadata": {
  "kernelspec": {
   "display_name": "Python 3",
   "language": "python",
   "name": "python3"
  },
  "language_info": {
   "codemirror_mode": {
    "name": "ipython",
    "version": 3
   },
   "file_extension": ".py",
   "mimetype": "text/x-python",
   "name": "python",
   "nbconvert_exporter": "python",
   "pygments_lexer": "ipython3",
   "version": "3.6.2"
  }
 },
 "nbformat": 4,
 "nbformat_minor": 2
}
